{
 "cells": [
  {
   "cell_type": "code",
   "execution_count": 1,
   "id": "ffe4e8ed-6ac8-4fcc-816e-f4fd4c62b6f1",
   "metadata": {},
   "outputs": [
    {
     "name": "stdout",
     "output_type": "stream",
     "text": [
      "Requirement already satisfied: numpy in c:\\users\\lenovo\\anaconda3\\lib\\site-packages (1.23.5)\n",
      "Note: you may need to restart the kernel to use updated packages.\n"
     ]
    }
   ],
   "source": [
    "pip install numpy"
   ]
  },
  {
   "cell_type": "code",
   "execution_count": 3,
   "id": "551985fe-df6d-45c7-a5ee-f84438c8a4ec",
   "metadata": {},
   "outputs": [],
   "source": [
    "import numpy as np"
   ]
  },
  {
   "cell_type": "markdown",
   "id": "a83f5298-151a-4537-b73e-2b58a5e40d98",
   "metadata": {},
   "source": [
    "NUMPY ARRAY\n",
    "\n",
    "numpy bir hesaplama kütüphanesidir. Veri dizisidir."
   ]
  },
  {
   "cell_type": "code",
   "execution_count": 4,
   "id": "6ff2cdf0-7f07-43b9-a3ce-b99e18c63ae6",
   "metadata": {},
   "outputs": [],
   "source": [
    "my_list = [10,20,30,40]"
   ]
  },
  {
   "cell_type": "code",
   "execution_count": 5,
   "id": "9d5fbefe-20ef-4df3-a58a-f2f6ca6f4bea",
   "metadata": {},
   "outputs": [
    {
     "data": {
      "text/plain": [
       "list"
      ]
     },
     "execution_count": 5,
     "metadata": {},
     "output_type": "execute_result"
    }
   ],
   "source": [
    "type(my_list)"
   ]
  },
  {
   "cell_type": "code",
   "execution_count": 6,
   "id": "9d00c6b4-1b5e-49a0-a314-582d5616c135",
   "metadata": {},
   "outputs": [
    {
     "data": {
      "text/plain": [
       "array([10, 20, 30, 40])"
      ]
     },
     "execution_count": 6,
     "metadata": {},
     "output_type": "execute_result"
    }
   ],
   "source": [
    "np.array(my_list) #listeyi numpy'a çevirdik."
   ]
  },
  {
   "cell_type": "code",
   "execution_count": 7,
   "id": "89010021-cf6a-41eb-9eee-ce6ad7f0cfae",
   "metadata": {},
   "outputs": [],
   "source": [
    "my_numpy_array = np.array(my_list) #listeyi bir değişkene atadık."
   ]
  },
  {
   "cell_type": "code",
   "execution_count": 8,
   "id": "8cbf3944-8619-4116-a769-89074c021edd",
   "metadata": {},
   "outputs": [
    {
     "data": {
      "text/plain": [
       "numpy.ndarray"
      ]
     },
     "execution_count": 8,
     "metadata": {},
     "output_type": "execute_result"
    }
   ],
   "source": [
    "type(my_numpy_array) #değişken türü array."
   ]
  },
  {
   "cell_type": "code",
   "execution_count": 9,
   "id": "0a18432d-0a95-4e42-880b-9a3e8f5bc095",
   "metadata": {},
   "outputs": [
    {
     "data": {
      "text/plain": [
       "array([10, 20, 30, 40])"
      ]
     },
     "execution_count": 9,
     "metadata": {},
     "output_type": "execute_result"
    }
   ],
   "source": [
    "my_numpy_array "
   ]
  },
  {
   "cell_type": "code",
   "execution_count": 10,
   "id": "04cf9f28-8284-4a7e-94c5-607df1eb6ccc",
   "metadata": {},
   "outputs": [
    {
     "data": {
      "text/plain": [
       "10"
      ]
     },
     "execution_count": 10,
     "metadata": {},
     "output_type": "execute_result"
    }
   ],
   "source": [
    "my_numpy_array[0] #index mantığı çalışır. Kullanılır."
   ]
  },
  {
   "cell_type": "code",
   "execution_count": 11,
   "id": "743db585-6638-4f74-bc60-11ffe8cdb55a",
   "metadata": {},
   "outputs": [
    {
     "data": {
      "text/plain": [
       "40"
      ]
     },
     "execution_count": 11,
     "metadata": {},
     "output_type": "execute_result"
    }
   ],
   "source": [
    "my_numpy_array[-1]"
   ]
  },
  {
   "cell_type": "code",
   "execution_count": 12,
   "id": "f569d47d-4dbf-4f56-908a-2a62c325a7b2",
   "metadata": {},
   "outputs": [],
   "source": [
    "my_numpy_array[0] = 100 # sıfırıncı elemanını 100 yaptık."
   ]
  },
  {
   "cell_type": "code",
   "execution_count": 13,
   "id": "eb40f2c1-0421-4ee7-b295-2a5531b70a42",
   "metadata": {},
   "outputs": [
    {
     "data": {
      "text/plain": [
       "array([100,  20,  30,  40])"
      ]
     },
     "execution_count": 13,
     "metadata": {},
     "output_type": "execute_result"
    }
   ],
   "source": [
    "my_numpy_array"
   ]
  },
  {
   "cell_type": "code",
   "execution_count": 14,
   "id": "0349a2a9-3f4b-40d1-b39c-7a67e28a7ea1",
   "metadata": {},
   "outputs": [
    {
     "data": {
      "text/plain": [
       "100"
      ]
     },
     "execution_count": 14,
     "metadata": {},
     "output_type": "execute_result"
    }
   ],
   "source": [
    "my_numpy_array.max()"
   ]
  },
  {
   "cell_type": "code",
   "execution_count": 15,
   "id": "198e18b8-6698-496e-b32c-e0e89ad693af",
   "metadata": {},
   "outputs": [
    {
     "data": {
      "text/plain": [
       "20"
      ]
     },
     "execution_count": 15,
     "metadata": {},
     "output_type": "execute_result"
    }
   ],
   "source": [
    "my_numpy_array.min()"
   ]
  },
  {
   "cell_type": "code",
   "execution_count": 16,
   "id": "710f4fc8-69a3-467e-81f9-e8b4aa94ff27",
   "metadata": {},
   "outputs": [
    {
     "data": {
      "text/plain": [
       "47.5"
      ]
     },
     "execution_count": 16,
     "metadata": {},
     "output_type": "execute_result"
    }
   ],
   "source": [
    "my_numpy_array.mean() #ortalama alır."
   ]
  },
  {
   "cell_type": "code",
   "execution_count": 17,
   "id": "515946d2-640b-4167-b21f-f8c3c8c27919",
   "metadata": {},
   "outputs": [],
   "source": [
    "matrix_list = [[1,0,0],[0,1,0],[0,0,1],[0,0,0]]"
   ]
  },
  {
   "cell_type": "code",
   "execution_count": 18,
   "id": "b00560d7-2de5-4088-8773-f091d1645ed1",
   "metadata": {},
   "outputs": [
    {
     "data": {
      "text/plain": [
       "list"
      ]
     },
     "execution_count": 18,
     "metadata": {},
     "output_type": "execute_result"
    }
   ],
   "source": [
    "type(matrix_list)"
   ]
  },
  {
   "cell_type": "code",
   "execution_count": 19,
   "id": "eea0062a-d958-4352-ade9-6538b99f796a",
   "metadata": {},
   "outputs": [
    {
     "data": {
      "text/plain": [
       "[1, 0, 0]"
      ]
     },
     "execution_count": 19,
     "metadata": {},
     "output_type": "execute_result"
    }
   ],
   "source": [
    "matrix_list[0]"
   ]
  },
  {
   "cell_type": "code",
   "execution_count": 20,
   "id": "b6a58af4-1777-4710-a1a6-a98517f4f9b6",
   "metadata": {},
   "outputs": [
    {
     "data": {
      "text/plain": [
       "1"
      ]
     },
     "execution_count": 20,
     "metadata": {},
     "output_type": "execute_result"
    }
   ],
   "source": [
    "matrix_list[0][0]"
   ]
  },
  {
   "cell_type": "code",
   "execution_count": 22,
   "id": "7344a0f2-7280-41de-8b0f-5b5a26104461",
   "metadata": {},
   "outputs": [],
   "source": [
    "numpy_matrix_list = np.array(matrix_list) # matrix şeklinde görünüm"
   ]
  },
  {
   "cell_type": "code",
   "execution_count": 23,
   "id": "c5c7d849-782a-4d74-97cc-157fa55b415a",
   "metadata": {},
   "outputs": [
    {
     "data": {
      "text/plain": [
       "array([[1, 0, 0],\n",
       "       [0, 1, 0],\n",
       "       [0, 0, 1],\n",
       "       [0, 0, 0]])"
      ]
     },
     "execution_count": 23,
     "metadata": {},
     "output_type": "execute_result"
    }
   ],
   "source": [
    "numpy_matrix_list"
   ]
  },
  {
   "cell_type": "code",
   "execution_count": 24,
   "id": "61b42ce1-395e-4fd0-8149-d408c70c5ac9",
   "metadata": {},
   "outputs": [
    {
     "data": {
      "text/plain": [
       "array([1, 0, 0])"
      ]
     },
     "execution_count": 24,
     "metadata": {},
     "output_type": "execute_result"
    }
   ],
   "source": [
    "numpy_matrix_list[0] #liste içindeki ilk elemanı getirir"
   ]
  },
  {
   "cell_type": "code",
   "execution_count": 25,
   "id": "e07f4cac-fd53-48d9-bfa0-f38fe6e9c310",
   "metadata": {},
   "outputs": [
    {
     "data": {
      "text/plain": [
       "(4, 3)"
      ]
     },
     "execution_count": 25,
     "metadata": {},
     "output_type": "execute_result"
    }
   ],
   "source": [
    "numpy_matrix_list.shape  #4 satır 3 sütun var der."
   ]
  },
  {
   "cell_type": "markdown",
   "id": "fb1ef34e-1d3c-431e-b32d-2fbda763fcd9",
   "metadata": {},
   "source": [
    "arange, numpy için range 'tir. range ile aynı förevi görür."
   ]
  },
  {
   "cell_type": "code",
   "execution_count": 26,
   "id": "dc60c6bc-6f8e-45c8-b539-a51d77a4c46c",
   "metadata": {},
   "outputs": [
    {
     "data": {
      "text/plain": [
       "array([0, 1, 2, 3, 4, 5, 6, 7, 8, 9])"
      ]
     },
     "execution_count": 26,
     "metadata": {},
     "output_type": "execute_result"
    }
   ],
   "source": [
    "np.arange(0,10) # 0'dan 10'a kadar git"
   ]
  },
  {
   "cell_type": "code",
   "execution_count": 27,
   "id": "23f6f74f-01d5-476f-8c53-af5d310aa90a",
   "metadata": {},
   "outputs": [
    {
     "data": {
      "text/plain": [
       "array([ 0,  2,  4,  6,  8, 10, 12, 14, 16, 18, 20, 22, 24, 26, 28])"
      ]
     },
     "execution_count": 27,
     "metadata": {},
     "output_type": "execute_result"
    }
   ],
   "source": [
    "np.arange(0, 30, 2) # 0'dan 30'a ikişer ikişer git."
   ]
  },
  {
   "cell_type": "code",
   "execution_count": 28,
   "id": "050c5760-3ca5-4ec1-bb2a-4e3f2c19d49a",
   "metadata": {},
   "outputs": [
    {
     "data": {
      "text/plain": [
       "array([0., 0., 0., 0., 0., 0., 0., 0., 0., 0.])"
      ]
     },
     "execution_count": 28,
     "metadata": {},
     "output_type": "execute_result"
    }
   ],
   "source": [
    "np.zeros(10) #10 tane sıfırdan oluşan liste"
   ]
  },
  {
   "cell_type": "code",
   "execution_count": 29,
   "id": "7b7cae93-1fa4-40af-9901-a7b86640f062",
   "metadata": {},
   "outputs": [
    {
     "data": {
      "text/plain": [
       "array([[0., 0., 0., 0., 0., 0., 0., 0., 0., 0.],\n",
       "       [0., 0., 0., 0., 0., 0., 0., 0., 0., 0.],\n",
       "       [0., 0., 0., 0., 0., 0., 0., 0., 0., 0.],\n",
       "       [0., 0., 0., 0., 0., 0., 0., 0., 0., 0.],\n",
       "       [0., 0., 0., 0., 0., 0., 0., 0., 0., 0.],\n",
       "       [0., 0., 0., 0., 0., 0., 0., 0., 0., 0.],\n",
       "       [0., 0., 0., 0., 0., 0., 0., 0., 0., 0.],\n",
       "       [0., 0., 0., 0., 0., 0., 0., 0., 0., 0.],\n",
       "       [0., 0., 0., 0., 0., 0., 0., 0., 0., 0.],\n",
       "       [0., 0., 0., 0., 0., 0., 0., 0., 0., 0.]])"
      ]
     },
     "execution_count": 29,
     "metadata": {},
     "output_type": "execute_result"
    }
   ],
   "source": [
    "np.zeros((10, 10)) #shape yaptığımız için bunlar tuple ile oluştururuz."
   ]
  },
  {
   "cell_type": "code",
   "execution_count": 31,
   "id": "41989611-aca5-4289-a284-778b64a57434",
   "metadata": {},
   "outputs": [
    {
     "data": {
      "text/plain": [
       "array([[1., 1., 1., 1., 1., 1., 1., 1., 1., 1.],\n",
       "       [1., 1., 1., 1., 1., 1., 1., 1., 1., 1.],\n",
       "       [1., 1., 1., 1., 1., 1., 1., 1., 1., 1.],\n",
       "       [1., 1., 1., 1., 1., 1., 1., 1., 1., 1.],\n",
       "       [1., 1., 1., 1., 1., 1., 1., 1., 1., 1.],\n",
       "       [1., 1., 1., 1., 1., 1., 1., 1., 1., 1.],\n",
       "       [1., 1., 1., 1., 1., 1., 1., 1., 1., 1.],\n",
       "       [1., 1., 1., 1., 1., 1., 1., 1., 1., 1.],\n",
       "       [1., 1., 1., 1., 1., 1., 1., 1., 1., 1.],\n",
       "       [1., 1., 1., 1., 1., 1., 1., 1., 1., 1.]])"
      ]
     },
     "execution_count": 31,
     "metadata": {},
     "output_type": "execute_result"
    }
   ],
   "source": [
    "np.ones((10,10)) # 10'a 10 olan 1'li matris."
   ]
  },
  {
   "cell_type": "markdown",
   "id": "e8526eb6-4557-4487-8501-edf4e22b29a9",
   "metadata": {},
   "source": [
    "linspace"
   ]
  },
  {
   "cell_type": "code",
   "execution_count": 32,
   "id": "621e9495-9025-4301-956e-3c148ff776a1",
   "metadata": {},
   "outputs": [
    {
     "data": {
      "text/plain": [
       "array([ 0.        ,  1.11111111,  2.22222222,  3.33333333,  4.44444444,\n",
       "        5.55555556,  6.66666667,  7.77777778,  8.88888889, 10.        ])"
      ]
     },
     "execution_count": 32,
     "metadata": {},
     "output_type": "execute_result"
    }
   ],
   "source": [
    "np.linspace(0,10,10) # 0'dan 10'a kadar eşit artışlarla bir 10'luk düzen oluştur. "
   ]
  },
  {
   "cell_type": "code",
   "execution_count": 33,
   "id": "923f8271-daea-4751-b691-a6d2262ff7a4",
   "metadata": {},
   "outputs": [
    {
     "data": {
      "text/plain": [
       "array([ 0.        ,  0.1010101 ,  0.2020202 ,  0.3030303 ,  0.4040404 ,\n",
       "        0.50505051,  0.60606061,  0.70707071,  0.80808081,  0.90909091,\n",
       "        1.01010101,  1.11111111,  1.21212121,  1.31313131,  1.41414141,\n",
       "        1.51515152,  1.61616162,  1.71717172,  1.81818182,  1.91919192,\n",
       "        2.02020202,  2.12121212,  2.22222222,  2.32323232,  2.42424242,\n",
       "        2.52525253,  2.62626263,  2.72727273,  2.82828283,  2.92929293,\n",
       "        3.03030303,  3.13131313,  3.23232323,  3.33333333,  3.43434343,\n",
       "        3.53535354,  3.63636364,  3.73737374,  3.83838384,  3.93939394,\n",
       "        4.04040404,  4.14141414,  4.24242424,  4.34343434,  4.44444444,\n",
       "        4.54545455,  4.64646465,  4.74747475,  4.84848485,  4.94949495,\n",
       "        5.05050505,  5.15151515,  5.25252525,  5.35353535,  5.45454545,\n",
       "        5.55555556,  5.65656566,  5.75757576,  5.85858586,  5.95959596,\n",
       "        6.06060606,  6.16161616,  6.26262626,  6.36363636,  6.46464646,\n",
       "        6.56565657,  6.66666667,  6.76767677,  6.86868687,  6.96969697,\n",
       "        7.07070707,  7.17171717,  7.27272727,  7.37373737,  7.47474747,\n",
       "        7.57575758,  7.67676768,  7.77777778,  7.87878788,  7.97979798,\n",
       "        8.08080808,  8.18181818,  8.28282828,  8.38383838,  8.48484848,\n",
       "        8.58585859,  8.68686869,  8.78787879,  8.88888889,  8.98989899,\n",
       "        9.09090909,  9.19191919,  9.29292929,  9.39393939,  9.49494949,\n",
       "        9.5959596 ,  9.6969697 ,  9.7979798 ,  9.8989899 , 10.        ])"
      ]
     },
     "execution_count": 33,
     "metadata": {},
     "output_type": "execute_result"
    }
   ],
   "source": [
    "np.linspace(0,10,100)"
   ]
  },
  {
   "cell_type": "markdown",
   "id": "33dd40c5-dbb8-4bd8-a20f-c78495be6a25",
   "metadata": {},
   "source": [
    "random"
   ]
  },
  {
   "cell_type": "code",
   "execution_count": 34,
   "id": "d6b07531-395f-42f0-a2d4-601edf484e69",
   "metadata": {},
   "outputs": [
    {
     "data": {
      "text/plain": [
       "array([1, 4, 9])"
      ]
     },
     "execution_count": 34,
     "metadata": {},
     "output_type": "execute_result"
    }
   ],
   "source": [
    "np.random.randint(1,10,3) #randint random int demektir. 1'den 10'a kadar 3 tane değer ver."
   ]
  },
  {
   "cell_type": "code",
   "execution_count": 35,
   "id": "bb50951d-f1ab-4b7d-baa3-4df1dfae9734",
   "metadata": {},
   "outputs": [
    {
     "data": {
      "text/plain": [
       "array([30, 96, 90, 41, 22, 76, 57, 40, 33, 33])"
      ]
     },
     "execution_count": 35,
     "metadata": {},
     "output_type": "execute_result"
    }
   ],
   "source": [
    "np.random.randint(20,100,10)"
   ]
  },
  {
   "cell_type": "markdown",
   "id": "842ca91d-eae8-43cd-8eb3-7ef0c5627872",
   "metadata": {},
   "source": [
    "numpy arrays methods"
   ]
  },
  {
   "cell_type": "code",
   "execution_count": 36,
   "id": "5281c6b0-ea1d-4be4-9f14-75ef4754e09e",
   "metadata": {},
   "outputs": [],
   "source": [
    "my_numpy_list = np.arange(0,20)"
   ]
  },
  {
   "cell_type": "code",
   "execution_count": 37,
   "id": "66912a06-65c2-4a91-8137-095280a4fa32",
   "metadata": {},
   "outputs": [
    {
     "data": {
      "text/plain": [
       "array([ 0,  1,  2,  3,  4,  5,  6,  7,  8,  9, 10, 11, 12, 13, 14, 15, 16,\n",
       "       17, 18, 19])"
      ]
     },
     "execution_count": 37,
     "metadata": {},
     "output_type": "execute_result"
    }
   ],
   "source": [
    "my_numpy_list"
   ]
  },
  {
   "cell_type": "code",
   "execution_count": 38,
   "id": "52ca14ee-9abc-443f-b4c4-0cfa0cfcdc93",
   "metadata": {},
   "outputs": [
    {
     "data": {
      "text/plain": [
       "4"
      ]
     },
     "execution_count": 38,
     "metadata": {},
     "output_type": "execute_result"
    }
   ],
   "source": [
    "my_numpy_list[4]"
   ]
  },
  {
   "cell_type": "code",
   "execution_count": 39,
   "id": "c37dff44-e1cb-41dd-907d-ac3b19b070d9",
   "metadata": {},
   "outputs": [
    {
     "data": {
      "text/plain": [
       "array([4, 5, 6, 7, 8])"
      ]
     },
     "execution_count": 39,
     "metadata": {},
     "output_type": "execute_result"
    }
   ],
   "source": [
    "my_numpy_list[4:9] # 4'ten 9'a kadar getir."
   ]
  },
  {
   "cell_type": "code",
   "execution_count": 40,
   "id": "6129d08a-7ac4-4d3b-91f0-012c2b5c9843",
   "metadata": {},
   "outputs": [
    {
     "data": {
      "text/plain": [
       "array([4, 6, 8])"
      ]
     },
     "execution_count": 40,
     "metadata": {},
     "output_type": "execute_result"
    }
   ],
   "source": [
    "my_numpy_list[4:9:2] # 4'ten 9'a kadar ikişer ikişer git."
   ]
  },
  {
   "cell_type": "code",
   "execution_count": 41,
   "id": "3f4e3542-feaf-4145-bf8c-3e8c11bb0069",
   "metadata": {},
   "outputs": [],
   "source": [
    "my_list = list(range(0,20))"
   ]
  },
  {
   "cell_type": "code",
   "execution_count": 42,
   "id": "85089abe-7263-4b47-bc93-eea6cd55b42a",
   "metadata": {},
   "outputs": [
    {
     "data": {
      "text/plain": [
       "[0, 1, 2, 3, 4, 5, 6, 7, 8, 9, 10, 11, 12, 13, 14, 15, 16, 17, 18, 19]"
      ]
     },
     "execution_count": 42,
     "metadata": {},
     "output_type": "execute_result"
    }
   ],
   "source": [
    "my_list"
   ]
  },
  {
   "cell_type": "code",
   "execution_count": 43,
   "id": "fe97d7c6-a2fa-4f5c-ba0f-de7e11175b07",
   "metadata": {},
   "outputs": [
    {
     "data": {
      "text/plain": [
       "[4, 6, 8]"
      ]
     },
     "execution_count": 43,
     "metadata": {},
     "output_type": "execute_result"
    }
   ],
   "source": [
    "my_list[4:9:2]"
   ]
  },
  {
   "cell_type": "code",
   "execution_count": 44,
   "id": "9b7621f9-001c-45f0-9425-79f00481031e",
   "metadata": {},
   "outputs": [],
   "source": [
    "#my_list[4:9] = -10 hata verir bu doğru bir kullanım değildir."
   ]
  },
  {
   "cell_type": "code",
   "execution_count": 46,
   "id": "ae67f82c-dbc1-4972-9a4f-420992cfe900",
   "metadata": {},
   "outputs": [],
   "source": [
    "my_numpy_list[4:9] = -10 #numpy'da ise bu kullanım uygulanabilir. 4'ten 9'a kadar olan sayıları -10'a eşitle dedik."
   ]
  },
  {
   "cell_type": "code",
   "execution_count": 47,
   "id": "a4251c94-8d27-41a6-b8b3-d70fed96de2e",
   "metadata": {},
   "outputs": [
    {
     "data": {
      "text/plain": [
       "array([  0,   1,   2,   3, -10, -10, -10, -10, -10,   9,  10,  11,  12,\n",
       "        13,  14,  15,  16,  17,  18,  19])"
      ]
     },
     "execution_count": 47,
     "metadata": {},
     "output_type": "execute_result"
    }
   ],
   "source": [
    "my_numpy_list"
   ]
  },
  {
   "cell_type": "code",
   "execution_count": 48,
   "id": "496f72b6-2035-41db-b476-751049031358",
   "metadata": {},
   "outputs": [],
   "source": [
    "other_list = np.arange(0,15)"
   ]
  },
  {
   "cell_type": "code",
   "execution_count": 49,
   "id": "159f84c9-d911-49d0-acc4-d4971d8046ee",
   "metadata": {},
   "outputs": [
    {
     "data": {
      "text/plain": [
       "array([ 0,  1,  2,  3,  4,  5,  6,  7,  8,  9, 10, 11, 12, 13, 14])"
      ]
     },
     "execution_count": 49,
     "metadata": {},
     "output_type": "execute_result"
    }
   ],
   "source": [
    "other_list"
   ]
  },
  {
   "cell_type": "code",
   "execution_count": 50,
   "id": "c47971b2-f7a0-436e-a620-205ddb9ff23d",
   "metadata": {},
   "outputs": [
    {
     "data": {
      "text/plain": [
       "array([4, 5, 6, 7, 8, 9])"
      ]
     },
     "execution_count": 50,
     "metadata": {},
     "output_type": "execute_result"
    }
   ],
   "source": [
    "other_list[4:10]"
   ]
  },
  {
   "cell_type": "code",
   "execution_count": 51,
   "id": "7622edf8-b2d4-445b-a3a1-84a562e3ebf5",
   "metadata": {},
   "outputs": [],
   "source": [
    "slicing_list = other_list[4:10] #yeni bir değişkene aktardık."
   ]
  },
  {
   "cell_type": "code",
   "execution_count": 52,
   "id": "34f31ac8-d2cb-4a4b-924b-024dc35a2c4d",
   "metadata": {},
   "outputs": [
    {
     "data": {
      "text/plain": [
       "array([4, 5, 6, 7, 8, 9])"
      ]
     },
     "execution_count": 52,
     "metadata": {},
     "output_type": "execute_result"
    }
   ],
   "source": [
    "slicing_list"
   ]
  },
  {
   "cell_type": "code",
   "execution_count": 53,
   "id": "8804718b-1aeb-4621-a109-4316dbac9d75",
   "metadata": {},
   "outputs": [
    {
     "data": {
      "text/plain": [
       "array([ 0,  1,  2,  3,  4,  5,  6,  7,  8,  9, 10, 11, 12, 13, 14])"
      ]
     },
     "execution_count": 53,
     "metadata": {},
     "output_type": "execute_result"
    }
   ],
   "source": [
    "other_list"
   ]
  },
  {
   "cell_type": "code",
   "execution_count": 54,
   "id": "8966f45d-7531-4063-99d2-95c8100a4c99",
   "metadata": {},
   "outputs": [
    {
     "data": {
      "text/plain": [
       "4"
      ]
     },
     "execution_count": 54,
     "metadata": {},
     "output_type": "execute_result"
    }
   ],
   "source": [
    "slicing_list[0]"
   ]
  },
  {
   "cell_type": "code",
   "execution_count": 55,
   "id": "0642d5dd-ebb6-47f6-86cb-9e1fc9de827f",
   "metadata": {},
   "outputs": [],
   "source": [
    "slicing_list[:] = 100 #tüm elemanlarını 100 yapar."
   ]
  },
  {
   "cell_type": "code",
   "execution_count": 56,
   "id": "0462aad4-fc11-4cf1-bb18-3a67659e5040",
   "metadata": {},
   "outputs": [
    {
     "data": {
      "text/plain": [
       "array([100, 100, 100, 100, 100, 100])"
      ]
     },
     "execution_count": 56,
     "metadata": {},
     "output_type": "execute_result"
    }
   ],
   "source": [
    "slicing_list"
   ]
  },
  {
   "cell_type": "code",
   "execution_count": 57,
   "id": "a2cd5b97-c4ad-4cbf-8e9d-f3470007efa1",
   "metadata": {},
   "outputs": [
    {
     "data": {
      "text/plain": [
       "array([  0,   1,   2,   3, 100, 100, 100, 100, 100, 100,  10,  11,  12,\n",
       "        13,  14])"
      ]
     },
     "execution_count": 57,
     "metadata": {},
     "output_type": "execute_result"
    }
   ],
   "source": [
    "other_list  #other_list de değişmiş numpy'da referans liste de değşir."
   ]
  },
  {
   "cell_type": "code",
   "execution_count": 58,
   "id": "f6b26264-1e77-41a1-9f9c-75e4d42ce9f7",
   "metadata": {},
   "outputs": [],
   "source": [
    "slicing_my_list = my_list[4:9]"
   ]
  },
  {
   "cell_type": "code",
   "execution_count": 59,
   "id": "6c2d2531-54d0-484c-a86a-65fc833f8be2",
   "metadata": {},
   "outputs": [
    {
     "data": {
      "text/plain": [
       "[4, 5, 6, 7, 8]"
      ]
     },
     "execution_count": 59,
     "metadata": {},
     "output_type": "execute_result"
    }
   ],
   "source": [
    "slicing_my_list"
   ]
  },
  {
   "cell_type": "code",
   "execution_count": 61,
   "id": "d49dce84-9a64-45e4-8936-89910100595f",
   "metadata": {},
   "outputs": [],
   "source": [
    "#slicing_my_list[:] = 100 bu hata verir tümünü birden değiştiremiyoruz."
   ]
  },
  {
   "cell_type": "code",
   "execution_count": 62,
   "id": "f156e1c8-5a92-4777-b8e1-37a2c0b2e7c8",
   "metadata": {},
   "outputs": [],
   "source": [
    "slicing_my_list[0] = -100 #tek tek değiştirebiliriz."
   ]
  },
  {
   "cell_type": "code",
   "execution_count": 63,
   "id": "0f65dc27-62cd-4b65-8201-b45bd937db0b",
   "metadata": {},
   "outputs": [],
   "source": [
    "slicing_my_list[1] = -100"
   ]
  },
  {
   "cell_type": "code",
   "execution_count": 64,
   "id": "475ecb62-f739-499a-8bd4-36e4e247ac08",
   "metadata": {},
   "outputs": [
    {
     "data": {
      "text/plain": [
       "[-100, -100, 6, 7, 8]"
      ]
     },
     "execution_count": 64,
     "metadata": {},
     "output_type": "execute_result"
    }
   ],
   "source": [
    "slicing_my_list"
   ]
  },
  {
   "cell_type": "code",
   "execution_count": 65,
   "id": "53202735-272a-4c74-a176-0429c89e51e3",
   "metadata": {},
   "outputs": [
    {
     "data": {
      "text/plain": [
       "[0, 1, 2, 3, 4, 5, 6, 7, 8, 9, 10, 11, 12, 13, 14, 15, 16, 17, 18, 19]"
      ]
     },
     "execution_count": 65,
     "metadata": {},
     "output_type": "execute_result"
    }
   ],
   "source": [
    "my_list #mylist değişmedi. Liste bağımsız davranır fakat numpy'da durum böyle değildir numpy'da referans listeler alt listeler değişirse değişirler."
   ]
  },
  {
   "cell_type": "code",
   "execution_count": 67,
   "id": "60b4e982-a14c-46f7-a172-707140b4ea3c",
   "metadata": {},
   "outputs": [],
   "source": [
    "numpy_list3 = np.arange(0,20)"
   ]
  },
  {
   "cell_type": "code",
   "execution_count": 68,
   "id": "3c698fe8-a263-4e18-b693-4f1ee8503832",
   "metadata": {},
   "outputs": [],
   "source": [
    "numpy_list3_copy = numpy_list3.copy()  #sağdaki diziyi alıp sol değişkene kopyalar."
   ]
  },
  {
   "cell_type": "code",
   "execution_count": 69,
   "id": "d87f92a3-b258-4379-b05f-d4f3ec977883",
   "metadata": {},
   "outputs": [],
   "source": [
    "slicing3 = numpy_list3_copy[4:9] #list3'teki elemanlardan 4 ile 9 arasındakileri aldık."
   ]
  },
  {
   "cell_type": "code",
   "execution_count": 72,
   "id": "bfdfd442-7481-47c7-9356-a31177e0420f",
   "metadata": {},
   "outputs": [],
   "source": [
    "slicing3[:] = -100 #içindekilerin hepsini -100 yaptık."
   ]
  },
  {
   "cell_type": "code",
   "execution_count": 73,
   "id": "2a1d3148-9eed-4d04-93a4-5b23f7647004",
   "metadata": {},
   "outputs": [
    {
     "data": {
      "text/plain": [
       "array([-100, -100, -100, -100, -100])"
      ]
     },
     "execution_count": 73,
     "metadata": {},
     "output_type": "execute_result"
    }
   ],
   "source": [
    "slicing3"
   ]
  },
  {
   "cell_type": "code",
   "execution_count": 74,
   "id": "1740ea72-6c71-4668-b3f5-71fd9a4b4544",
   "metadata": {},
   "outputs": [
    {
     "data": {
      "text/plain": [
       "array([   0,    1,    2,    3, -100, -100, -100, -100, -100,    9,   10,\n",
       "         11,   12,   13,   14,   15,   16,   17,   18,   19])"
      ]
     },
     "execution_count": 74,
     "metadata": {},
     "output_type": "execute_result"
    }
   ],
   "source": [
    "numpy_list3_copy #burası da değişti."
   ]
  },
  {
   "cell_type": "code",
   "execution_count": 75,
   "id": "28b726d1-8903-4337-8909-65c728924182",
   "metadata": {},
   "outputs": [
    {
     "data": {
      "text/plain": [
       "array([ 0,  1,  2,  3,  4,  5,  6,  7,  8,  9, 10, 11, 12, 13, 14, 15, 16,\n",
       "       17, 18, 19])"
      ]
     },
     "execution_count": 75,
     "metadata": {},
     "output_type": "execute_result"
    }
   ],
   "source": [
    "numpy_list3 #uburası değişmedi çünkü copy kulladık. copy ile iki ayrı bellek yeri oluşturulur böylece önceden kaydettiğimiz hiçbir şey bozulmaz."
   ]
  },
  {
   "cell_type": "markdown",
   "id": "b76ea31d-7e57-4e47-900b-a89cf4a1a29a",
   "metadata": {},
   "source": [
    "numpy operations with numpy arrays"
   ]
  },
  {
   "cell_type": "code",
   "execution_count": 2,
   "id": "6b68a8d9-09d0-4605-a5e6-9c7bd1ec1b11",
   "metadata": {},
   "outputs": [],
   "source": [
    "import numpy as np\n",
    "new_array = np.random.randint(1,150,25) #1'den 150'ye kadar 25 tane sayı ver."
   ]
  },
  {
   "cell_type": "code",
   "execution_count": 3,
   "id": "c44ea749-6bde-4035-82f8-937823a7b6c2",
   "metadata": {},
   "outputs": [
    {
     "data": {
      "text/plain": [
       "array([118, 131,  21,  44, 100, 127,  74,  92,  95,  81,  88, 119,  10,\n",
       "       127,  18,  33, 126,  57,  66,  25,  58, 133, 129,  28,  69])"
      ]
     },
     "execution_count": 3,
     "metadata": {},
     "output_type": "execute_result"
    }
   ],
   "source": [
    "new_array"
   ]
  },
  {
   "cell_type": "code",
   "execution_count": 4,
   "id": "b017f762-acc8-44aa-b2a2-c3c5c1b7cc68",
   "metadata": {},
   "outputs": [
    {
     "data": {
      "text/plain": [
       "array([ True,  True, False, False,  True,  True,  True,  True,  True,\n",
       "        True,  True,  True, False,  True, False, False,  True,  True,\n",
       "        True, False,  True,  True,  True, False,  True])"
      ]
     },
     "execution_count": 4,
     "metadata": {},
     "output_type": "execute_result"
    }
   ],
   "source": [
    "#dizi içinde 50'den büyük olanları görmek istiyoruz.\n",
    "new_array > 50 #50'den büyük olanları true olarak döndürdü."
   ]
  },
  {
   "cell_type": "code",
   "execution_count": 5,
   "id": "eff8d4a0-fb90-462b-a1a6-706559e87324",
   "metadata": {},
   "outputs": [],
   "source": [
    "result_array = new_array > 50"
   ]
  },
  {
   "cell_type": "code",
   "execution_count": 6,
   "id": "e8ef4800-9727-435c-a32a-b204e2b78881",
   "metadata": {},
   "outputs": [
    {
     "data": {
      "text/plain": [
       "array([ True,  True, False, False,  True,  True,  True,  True,  True,\n",
       "        True,  True,  True, False,  True, False, False,  True,  True,\n",
       "        True, False,  True,  True,  True, False,  True])"
      ]
     },
     "execution_count": 6,
     "metadata": {},
     "output_type": "execute_result"
    }
   ],
   "source": [
    "result_array"
   ]
  },
  {
   "cell_type": "code",
   "execution_count": 7,
   "id": "17cac10d-34e4-46f9-b65f-9f2b9e04b962",
   "metadata": {},
   "outputs": [
    {
     "data": {
      "text/plain": [
       "array([118, 131, 100, 127,  74,  92,  95,  81,  88, 119, 127, 126,  57,\n",
       "        66,  58, 133, 129,  69])"
      ]
     },
     "execution_count": 7,
     "metadata": {},
     "output_type": "execute_result"
    }
   ],
   "source": [
    "new_array[result_array] # rsult arrayi  new array içine aldık. Sadece true olanları gösteriyor."
   ]
  },
  {
   "cell_type": "code",
   "execution_count": 8,
   "id": "236d6417-4815-4042-ada1-6700da149696",
   "metadata": {},
   "outputs": [],
   "source": [
    "last_array = np.arange(0,30) #0'dan 30'a kadar getir."
   ]
  },
  {
   "cell_type": "code",
   "execution_count": 9,
   "id": "765a2fbb-c878-40f2-b961-b51ff1608dd3",
   "metadata": {},
   "outputs": [
    {
     "data": {
      "text/plain": [
       "array([ 0,  1,  2,  3,  4,  5,  6,  7,  8,  9, 10, 11, 12, 13, 14, 15, 16,\n",
       "       17, 18, 19, 20, 21, 22, 23, 24, 25, 26, 27, 28, 29])"
      ]
     },
     "execution_count": 9,
     "metadata": {},
     "output_type": "execute_result"
    }
   ],
   "source": [
    "last_array"
   ]
  },
  {
   "cell_type": "code",
   "execution_count": 10,
   "id": "5a1c23f2-9948-40d9-a4df-7f8acafb32a6",
   "metadata": {},
   "outputs": [
    {
     "data": {
      "text/plain": [
       "array([ 0,  2,  4,  6,  8, 10, 12, 14, 16, 18, 20, 22, 24, 26, 28, 30, 32,\n",
       "       34, 36, 38, 40, 42, 44, 46, 48, 50, 52, 54, 56, 58])"
      ]
     },
     "execution_count": 10,
     "metadata": {},
     "output_type": "execute_result"
    }
   ],
   "source": [
    "last_array + last_array # listeleri topluyor."
   ]
  },
  {
   "cell_type": "code",
   "execution_count": 11,
   "id": "c8d65f12-d631-4a9a-87ce-987301bd87fd",
   "metadata": {},
   "outputs": [
    {
     "data": {
      "text/plain": [
       "array([  0,   1,   4,   9,  16,  25,  36,  49,  64,  81, 100, 121, 144,\n",
       "       169, 196, 225, 256, 289, 324, 361, 400, 441, 484, 529, 576, 625,\n",
       "       676, 729, 784, 841])"
      ]
     },
     "execution_count": 11,
     "metadata": {},
     "output_type": "execute_result"
    }
   ],
   "source": [
    "last_array * last_array #listeleri çarpar."
   ]
  },
  {
   "cell_type": "code",
   "execution_count": 12,
   "id": "5f939e04-a0cb-42cc-b5f3-a95d7d6686be",
   "metadata": {},
   "outputs": [
    {
     "data": {
      "text/plain": [
       "array([0, 0, 0, 0, 0, 0, 0, 0, 0, 0, 0, 0, 0, 0, 0, 0, 0, 0, 0, 0, 0, 0,\n",
       "       0, 0, 0, 0, 0, 0, 0, 0])"
      ]
     },
     "execution_count": 12,
     "metadata": {},
     "output_type": "execute_result"
    }
   ],
   "source": [
    "last_array - last_array"
   ]
  },
  {
   "cell_type": "code",
   "execution_count": 13,
   "id": "0cdd4381-c024-4171-9b76-a0870a28c75a",
   "metadata": {},
   "outputs": [
    {
     "name": "stderr",
     "output_type": "stream",
     "text": [
      "C:\\Users\\lenovo\\AppData\\Local\\Temp\\ipykernel_13628\\2805399438.py:1: RuntimeWarning: invalid value encountered in divide\n",
      "  last_array / last_array\n"
     ]
    },
    {
     "data": {
      "text/plain": [
       "array([nan,  1.,  1.,  1.,  1.,  1.,  1.,  1.,  1.,  1.,  1.,  1.,  1.,\n",
       "        1.,  1.,  1.,  1.,  1.,  1.,  1.,  1.,  1.,  1.,  1.,  1.,  1.,\n",
       "        1.,  1.,  1.,  1.])"
      ]
     },
     "execution_count": 13,
     "metadata": {},
     "output_type": "execute_result"
    }
   ],
   "source": [
    "last_array / last_array  # 0, 0'a bölünemediği için."
   ]
  },
  {
   "cell_type": "code",
   "execution_count": 14,
   "id": "babc3503-1874-4f3b-bf5a-a2934fde34fc",
   "metadata": {},
   "outputs": [
    {
     "data": {
      "text/plain": [
       "29"
      ]
     },
     "execution_count": 14,
     "metadata": {},
     "output_type": "execute_result"
    }
   ],
   "source": [
    "last_array.max() # en büyük değer."
   ]
  },
  {
   "cell_type": "code",
   "execution_count": 15,
   "id": "ddc66f23-e0a3-4a2d-8cc9-95ace5033bc7",
   "metadata": {},
   "outputs": [
    {
     "data": {
      "text/plain": [
       "29"
      ]
     },
     "execution_count": 15,
     "metadata": {},
     "output_type": "execute_result"
    }
   ],
   "source": [
    "np.max(last_array) #bu şekilde de en büyük bulunur."
   ]
  },
  {
   "cell_type": "code",
   "execution_count": 16,
   "id": "1fad3b2c-f4ce-492c-ac74-1d70d56ecc27",
   "metadata": {},
   "outputs": [
    {
     "data": {
      "text/plain": [
       "14.5"
      ]
     },
     "execution_count": 16,
     "metadata": {},
     "output_type": "execute_result"
    }
   ],
   "source": [
    "np.mean(last_array) #sayıların ortalamasını alır."
   ]
  },
  {
   "cell_type": "code",
   "execution_count": 17,
   "id": "a7772c53-a531-4d30-bbba-e6365e135e3c",
   "metadata": {},
   "outputs": [
    {
     "data": {
      "text/plain": [
       "array([0.        , 1.        , 1.41421356, 1.73205081, 2.        ,\n",
       "       2.23606798, 2.44948974, 2.64575131, 2.82842712, 3.        ,\n",
       "       3.16227766, 3.31662479, 3.46410162, 3.60555128, 3.74165739,\n",
       "       3.87298335, 4.        , 4.12310563, 4.24264069, 4.35889894,\n",
       "       4.47213595, 4.58257569, 4.69041576, 4.79583152, 4.89897949,\n",
       "       5.        , 5.09901951, 5.19615242, 5.29150262, 5.38516481])"
      ]
     },
     "execution_count": 17,
     "metadata": {},
     "output_type": "execute_result"
    }
   ],
   "source": [
    "np.sqrt(last_array) #sayıların karekökünü alır."
   ]
  },
  {
   "cell_type": "code",
   "execution_count": null,
   "id": "96444053-2eb9-4050-884d-d20be8de9990",
   "metadata": {},
   "outputs": [],
   "source": []
  }
 ],
 "metadata": {
  "kernelspec": {
   "display_name": "Python 3 (ipykernel)",
   "language": "python",
   "name": "python3"
  },
  "language_info": {
   "codemirror_mode": {
    "name": "ipython",
    "version": 3
   },
   "file_extension": ".py",
   "mimetype": "text/x-python",
   "name": "python",
   "nbconvert_exporter": "python",
   "pygments_lexer": "ipython3",
   "version": "3.11.9"
  }
 },
 "nbformat": 4,
 "nbformat_minor": 5
}
