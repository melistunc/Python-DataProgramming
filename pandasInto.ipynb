{
 "cells": [
  {
   "cell_type": "code",
   "execution_count": 2,
   "id": "c8999841-eb73-45b3-a3d4-376839c478ae",
   "metadata": {},
   "outputs": [],
   "source": [
    "import pandas as pd\n",
    "import numpy as np"
   ]
  },
  {
   "cell_type": "markdown",
   "id": "d902b698-53f4-4fc2-b8c8-33107a0b5ccf",
   "metadata": {},
   "source": [
    "Series"
   ]
  },
  {
   "cell_type": "code",
   "execution_count": 3,
   "id": "244a80ca-af16-4f2d-9039-6a97616887c5",
   "metadata": {},
   "outputs": [],
   "source": [
    "my_dict = {\"james\": 50, \"lars\":60, \"kirk\":55, \"rob\": 65}"
   ]
  },
  {
   "cell_type": "code",
   "execution_count": 4,
   "id": "43856a02-2736-4004-8414-35a903cfa018",
   "metadata": {},
   "outputs": [
    {
     "data": {
      "text/plain": [
       "james    50\n",
       "lars     60\n",
       "kirk     55\n",
       "rob      65\n",
       "dtype: int64"
      ]
     },
     "execution_count": 4,
     "metadata": {},
     "output_type": "execute_result"
    }
   ],
   "source": [
    "pd.Series(my_dict) #seriler bu şekilde verileri gösterir (sözlükle olan). Yukarıda verilere key value atamıştık."
   ]
  },
  {
   "cell_type": "code",
   "execution_count": 5,
   "id": "747c5efa-81ff-4f15-83d2-3391fa3dc3c0",
   "metadata": {},
   "outputs": [],
   "source": [
    "age_list = [50, 60, 55, 65]\n",
    "name_list = [\"james\", \"lars\", \"kirk\", \"rob\"]"
   ]
  },
  {
   "cell_type": "code",
   "execution_count": 7,
   "id": "08180dc1-416b-4bba-97a3-f9dd88c879d8",
   "metadata": {},
   "outputs": [
    {
     "data": {
      "text/plain": [
       "james    50\n",
       "lars     60\n",
       "kirk     55\n",
       "rob      65\n",
       "dtype: int64"
      ]
     },
     "execution_count": 7,
     "metadata": {},
     "output_type": "execute_result"
    }
   ],
   "source": [
    "pd.Series(age_list, name_list) #yukarıdaki ile aynı işi yaptı. BUrada agelist ve namelist'in yazılan yerleri önemlidir. key-value. James verdiğimizde bize 50'yi verir."
   ]
  },
  {
   "cell_type": "code",
   "execution_count": 8,
   "id": "025ccf5f-1f13-4aab-981b-c8fc3912751f",
   "metadata": {},
   "outputs": [
    {
     "data": {
      "text/plain": [
       "james    50\n",
       "lars     60\n",
       "kirk     55\n",
       "rob      65\n",
       "dtype: int64"
      ]
     },
     "execution_count": 8,
     "metadata": {},
     "output_type": "execute_result"
    }
   ],
   "source": [
    "pd.Series(data=age_list, index=name_list) #burada neyler veri neyler index net ayırım görülür."
   ]
  },
  {
   "cell_type": "code",
   "execution_count": 9,
   "id": "3729d6bb-f9da-4d5b-833b-8052f20ea01c",
   "metadata": {},
   "outputs": [],
   "source": [
    "numpy_array = np.arange(0,8)"
   ]
  },
  {
   "cell_type": "code",
   "execution_count": 10,
   "id": "3fb1364d-a2cc-449e-9a96-c15f47f31fda",
   "metadata": {},
   "outputs": [
    {
     "data": {
      "text/plain": [
       "array([0, 1, 2, 3, 4, 5, 6, 7])"
      ]
     },
     "execution_count": 10,
     "metadata": {},
     "output_type": "execute_result"
    }
   ],
   "source": [
    "numpy_array"
   ]
  },
  {
   "cell_type": "code",
   "execution_count": 11,
   "id": "44bc588b-c9ca-49c3-9d39-7ba3ffc069ac",
   "metadata": {},
   "outputs": [
    {
     "data": {
      "text/plain": [
       "0    0\n",
       "1    1\n",
       "2    2\n",
       "3    3\n",
       "4    4\n",
       "5    5\n",
       "6    6\n",
       "7    7\n",
       "dtype: int32"
      ]
     },
     "execution_count": 11,
     "metadata": {},
     "output_type": "execute_result"
    }
   ],
   "source": [
    "pd.Series(numpy_array)"
   ]
  },
  {
   "cell_type": "code",
   "execution_count": 12,
   "id": "661eae7d-d32e-416b-b5c9-86ad813552a3",
   "metadata": {},
   "outputs": [],
   "source": [
    "new_numpy_array = np.array([10,20,30,40])"
   ]
  },
  {
   "cell_type": "code",
   "execution_count": 13,
   "id": "1e214e1d-dfd7-4e41-92d2-9dce0cf66aa3",
   "metadata": {},
   "outputs": [
    {
     "data": {
      "text/plain": [
       "0    10\n",
       "1    20\n",
       "2    30\n",
       "3    40\n",
       "dtype: int32"
      ]
     },
     "execution_count": 13,
     "metadata": {},
     "output_type": "execute_result"
    }
   ],
   "source": [
    "pd.Series(new_numpy_array) #indexlerini kendi verdi."
   ]
  },
  {
   "cell_type": "code",
   "execution_count": 14,
   "id": "af8d7159-4488-46a9-b37e-d2290666424e",
   "metadata": {},
   "outputs": [
    {
     "data": {
      "text/plain": [
       "array([10, 20, 30, 40])"
      ]
     },
     "execution_count": 14,
     "metadata": {},
     "output_type": "execute_result"
    }
   ],
   "source": [
    "new_numpy_array"
   ]
  },
  {
   "cell_type": "code",
   "execution_count": 15,
   "id": "ace79689-cff8-4434-9603-93fc5054557d",
   "metadata": {},
   "outputs": [
    {
     "data": {
      "text/plain": [
       "['james', 'lars', 'kirk', 'rob']"
      ]
     },
     "execution_count": 15,
     "metadata": {},
     "output_type": "execute_result"
    }
   ],
   "source": [
    "name_list"
   ]
  },
  {
   "cell_type": "code",
   "execution_count": 16,
   "id": "25031656-1bbc-4827-a630-2d4318be05d1",
   "metadata": {},
   "outputs": [
    {
     "data": {
      "text/plain": [
       "james    10\n",
       "lars     20\n",
       "kirk     30\n",
       "rob      40\n",
       "dtype: int32"
      ]
     },
     "execution_count": 16,
     "metadata": {},
     "output_type": "execute_result"
    }
   ],
   "source": [
    "pd.Series(data=new_numpy_array, index=name_list) #dataya newarray, index'e namelist atadık manuel."
   ]
  },
  {
   "cell_type": "code",
   "execution_count": 17,
   "id": "ed9d1042-3323-409a-8ab0-a3db97617588",
   "metadata": {},
   "outputs": [],
   "source": [
    "my_series = pd.Series(data=new_numpy_array, index=name_list) #bir değişkene atadık."
   ]
  },
  {
   "cell_type": "code",
   "execution_count": 18,
   "id": "54ae4616-26fe-4fbd-ae45-c04aa29b6adb",
   "metadata": {},
   "outputs": [
    {
     "data": {
      "text/plain": [
       "james    10\n",
       "lars     20\n",
       "kirk     30\n",
       "rob      40\n",
       "dtype: int32"
      ]
     },
     "execution_count": 18,
     "metadata": {},
     "output_type": "execute_result"
    }
   ],
   "source": [
    "my_series"
   ]
  },
  {
   "cell_type": "code",
   "execution_count": 19,
   "id": "1f606bad-c289-41f4-9336-e55716df39f8",
   "metadata": {},
   "outputs": [
    {
     "data": {
      "text/plain": [
       "pandas.core.series.Series"
      ]
     },
     "execution_count": 19,
     "metadata": {},
     "output_type": "execute_result"
    }
   ],
   "source": [
    "type(my_series)"
   ]
  },
  {
   "cell_type": "code",
   "execution_count": 20,
   "id": "ec659350-0402-4e47-9073-56ccabf19827",
   "metadata": {},
   "outputs": [
    {
     "data": {
      "text/plain": [
       "30"
      ]
     },
     "execution_count": 20,
     "metadata": {},
     "output_type": "execute_result"
    }
   ],
   "source": [
    "my_series[\"kirk\"]"
   ]
  },
  {
   "cell_type": "code",
   "execution_count": 21,
   "id": "3c6a2b25-fcc3-43f7-9862-04bdbdee857c",
   "metadata": {},
   "outputs": [],
   "source": [
    "my_series[\"kirk\"] = 60 #kirk'ü 60 yaptı. Seriler frakl kaynaklardan alınan verileri birleştirir ve biz bu kaynakları kullanbailiyoruz."
   ]
  },
  {
   "cell_type": "code",
   "execution_count": 22,
   "id": "329a15e6-4c16-4e82-a6b1-88cafb74caaa",
   "metadata": {},
   "outputs": [
    {
     "data": {
      "text/plain": [
       "james    10\n",
       "lars     20\n",
       "kirk     60\n",
       "rob      40\n",
       "dtype: int32"
      ]
     },
     "execution_count": 22,
     "metadata": {},
     "output_type": "execute_result"
    }
   ],
   "source": [
    "my_series"
   ]
  },
  {
   "cell_type": "code",
   "execution_count": 24,
   "id": "c57f1131-f59c-4078-976a-0a598a3bd92c",
   "metadata": {},
   "outputs": [],
   "source": [
    "quiz_resluts1 = pd.Series(data=[70,60,100], index=[\"a\",\"b\",\"c\"])"
   ]
  },
  {
   "cell_type": "code",
   "execution_count": 25,
   "id": "46fd7c69-0c0c-4b0c-8c0b-f791b943d895",
   "metadata": {},
   "outputs": [],
   "source": [
    "quiz_resluts2 = pd.Series(data=[80,30,90], index=[\"a\",\"b\",\"c\"])"
   ]
  },
  {
   "cell_type": "code",
   "execution_count": 26,
   "id": "a4d30f8b-a163-4dbd-9063-4e7599bcfbb9",
   "metadata": {},
   "outputs": [
    {
     "data": {
      "text/plain": [
       "a     70\n",
       "b     60\n",
       "c    100\n",
       "dtype: int64"
      ]
     },
     "execution_count": 26,
     "metadata": {},
     "output_type": "execute_result"
    }
   ],
   "source": [
    "quiz_resluts1"
   ]
  },
  {
   "cell_type": "code",
   "execution_count": 27,
   "id": "7d866a46-7787-45d5-8134-47dd404ad8c4",
   "metadata": {},
   "outputs": [
    {
     "data": {
      "text/plain": [
       "a    80\n",
       "b    30\n",
       "c    90\n",
       "dtype: int64"
      ]
     },
     "execution_count": 27,
     "metadata": {},
     "output_type": "execute_result"
    }
   ],
   "source": [
    "quiz_resluts2"
   ]
  },
  {
   "cell_type": "code",
   "execution_count": 28,
   "id": "37f66439-da70-42ba-bbd0-e1c963c1ebd7",
   "metadata": {},
   "outputs": [
    {
     "data": {
      "text/plain": [
       "a    150\n",
       "b     90\n",
       "c    190\n",
       "dtype: int64"
      ]
     },
     "execution_count": 28,
     "metadata": {},
     "output_type": "execute_result"
    }
   ],
   "source": [
    "quiz_resluts1 + quiz_resluts2 # a'lar b'ler c'ler uyuştuğu için toplanır."
   ]
  },
  {
   "cell_type": "code",
   "execution_count": 29,
   "id": "ffb27f2d-da59-4b9c-8344-0e8c8937995b",
   "metadata": {},
   "outputs": [],
   "source": [
    "exam_results =  pd.Series(data=[70,60,100], index=[\"a\",\"b\",\"c\"])"
   ]
  },
  {
   "cell_type": "code",
   "execution_count": 30,
   "id": "64196fa4-71df-4807-ae5d-e881b045372b",
   "metadata": {},
   "outputs": [],
   "source": [
    "exam_resluts2 = pd.Series(data=[80,30,90], index=[\"a\",\"d\",\"c\"])"
   ]
  },
  {
   "cell_type": "code",
   "execution_count": 31,
   "id": "1dbe502d-5037-4c40-811a-a9c42ec48748",
   "metadata": {},
   "outputs": [
    {
     "data": {
      "text/plain": [
       "a    150.0\n",
       "b      NaN\n",
       "c    190.0\n",
       "d      NaN\n",
       "dtype: float64"
      ]
     },
     "execution_count": 31,
     "metadata": {},
     "output_type": "execute_result"
    }
   ],
   "source": [
    "exam_results + exam_resluts2 #uyuşmayanları nan yaptı. öyle bir değer yoktur dedi."
   ]
  },
  {
   "cell_type": "code",
   "execution_count": null,
   "id": "1ec20403-fd78-426f-9420-4760fc8fa725",
   "metadata": {},
   "outputs": [],
   "source": []
  }
 ],
 "metadata": {
  "kernelspec": {
   "display_name": "Python 3 (ipykernel)",
   "language": "python",
   "name": "python3"
  },
  "language_info": {
   "codemirror_mode": {
    "name": "ipython",
    "version": 3
   },
   "file_extension": ".py",
   "mimetype": "text/x-python",
   "name": "python",
   "nbconvert_exporter": "python",
   "pygments_lexer": "ipython3",
   "version": "3.11.9"
  }
 },
 "nbformat": 4,
 "nbformat_minor": 5
}
