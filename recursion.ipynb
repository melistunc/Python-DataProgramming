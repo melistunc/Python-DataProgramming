{
 "cells": [
  {
   "cell_type": "code",
   "execution_count": 1,
   "id": "b91be7bc-614d-48c6-b19d-2679c80f12bc",
   "metadata": {},
   "outputs": [],
   "source": [
    "def calculateFactorial(num):\n",
    "    if num == 0:\n",
    "        return 1\n",
    "    else:\n",
    "        return num * calculateFactorial(num - 1)"
   ]
  },
  {
   "cell_type": "code",
   "execution_count": 5,
   "id": "e41fa23e-84cd-49e8-8717-d0b17413560e",
   "metadata": {},
   "outputs": [
    {
     "data": {
      "text/plain": [
       "5040"
      ]
     },
     "execution_count": 5,
     "metadata": {},
     "output_type": "execute_result"
    }
   ],
   "source": [
    "calculateFactorial(7)"
   ]
  },
  {
   "cell_type": "code",
   "execution_count": 6,
   "id": "6443151b-ed44-49ae-a138-f135fe3e1a2b",
   "metadata": {},
   "outputs": [],
   "source": [
    "def calculateContigousSum(num):\n",
    "    if num == 0:\n",
    "        return 0\n",
    "    else:    \n",
    "        return num + calculateContigousSum(num - 1)"
   ]
  },
  {
   "cell_type": "code",
   "execution_count": 8,
   "id": "6743780e-e0ce-488b-b293-7213ba54aea9",
   "metadata": {},
   "outputs": [
    {
     "data": {
      "text/plain": [
       "55"
      ]
     },
     "execution_count": 8,
     "metadata": {},
     "output_type": "execute_result"
    }
   ],
   "source": [
    "calculateContigousSum(10)"
   ]
  },
  {
   "cell_type": "code",
   "execution_count": null,
   "id": "ec5b40a1-cbb6-4a02-b463-9c2ba486f1de",
   "metadata": {},
   "outputs": [],
   "source": []
  }
 ],
 "metadata": {
  "kernelspec": {
   "display_name": "Python 3 (ipykernel)",
   "language": "python",
   "name": "python3"
  },
  "language_info": {
   "codemirror_mode": {
    "name": "ipython",
    "version": 3
   },
   "file_extension": ".py",
   "mimetype": "text/x-python",
   "name": "python",
   "nbconvert_exporter": "python",
   "pygments_lexer": "ipython3",
   "version": "3.11.9"
  }
 },
 "nbformat": 4,
 "nbformat_minor": 5
}
